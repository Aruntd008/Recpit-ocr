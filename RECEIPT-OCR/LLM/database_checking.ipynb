{
 "cells": [
  {
   "cell_type": "code",
   "execution_count": 3,
   "metadata": {},
   "outputs": [],
   "source": [
    "import mysql.connector\n",
    "from datetime import datetime"
   ]
  },
  {
   "cell_type": "code",
   "execution_count": 5,
   "metadata": {},
   "outputs": [],
   "source": [
    "\n",
    "# MySQL database connection\n",
    "db_config = {\n",
    "    \"host\": \"localhost\",  # Replace with your MySQL server address\n",
    "    \"user\": \"root\",       # Replace with your MySQL username\n",
    "    \"password\": \"deva@T555\"  # Replace with your MySQL password\n",
    "}\n",
    "\n",
    "# Connect to MySQL server\n",
    "conn = mysql.connector.connect(**db_config)\n",
    "cursor = conn.cursor()\n",
    "\n",
    "# Create the database if it does not exist\n",
    "cursor.execute(\"CREATE DATABASE IF NOT EXISTS BillDBMS\")\n",
    "cursor.execute(\"USE BillDBMS\")"
   ]
  },
  {
   "cell_type": "code",
   "execution_count": 6,
   "metadata": {},
   "outputs": [
    {
     "name": "stdout",
     "output_type": "stream",
     "text": [
      "Tables created successfully.\n"
     ]
    }
   ],
   "source": [
    "# Define table structures\n",
    "table_structure = {\n",
    "    'bill_info': '''\n",
    "        CREATE TABLE IF NOT EXISTS bill_info (\n",
    "            BillID INT AUTO_INCREMENT PRIMARY KEY,\n",
    "            StoreName VARCHAR(255) NOT NULL,\n",
    "            StoreAddress TEXT NOT NULL,\n",
    "            Tel VARCHAR(20) NOT NULL,\n",
    "            BillDate DATE NOT NULL,\n",
    "            BillTime TIME NOT NULL,\n",
    "            SubTotal DECIMAL(10, 2) NOT NULL,\n",
    "            Total DECIMAL(10, 2) NOT NULL,\n",
    "            Tax DECIMAL(10, 2) NOT NULL,\n",
    "            Tips DECIMAL(10, 2)\n",
    "        );\n",
    "    ''',\n",
    "    'products': '''\n",
    "        CREATE TABLE IF NOT EXISTS products (\n",
    "            ProductID INT AUTO_INCREMENT PRIMARY KEY,\n",
    "            BillID INT,\n",
    "            ProductName VARCHAR(255) NOT NULL,\n",
    "            Quantity INT NOT NULL,\n",
    "            Price DECIMAL(10, 2) NOT NULL,\n",
    "            FOREIGN KEY (BillID) REFERENCES bill_info (BillID)\n",
    "        );\n",
    "    ''',\n",
    "    'images': '''\n",
    "        CREATE TABLE IF NOT EXISTS images (\n",
    "            id INT AUTO_INCREMENT PRIMARY KEY,\n",
    "            bill_img LONGBLOB NOT NULL,\n",
    "            upload_date DATETIME NOT NULL DEFAULT CURRENT_TIMESTAMP,\n",
    "            BillID INT,\n",
    "            FOREIGN KEY (BillID) REFERENCES bill_info (BillID)\n",
    "        );\n",
    "    '''\n",
    "}\n",
    "\n",
    "# Create tables\n",
    "for table_name, create_query in table_structure.items():\n",
    "    cursor.execute(create_query)\n",
    "print(\"Tables created successfully.\")\n"
   ]
  },
  {
   "cell_type": "code",
   "execution_count": 7,
   "metadata": {},
   "outputs": [
    {
     "name": "stdout",
     "output_type": "stream",
     "text": [
      "Sample data inserted successfully.\n"
     ]
    }
   ],
   "source": [
    "# Insert sample data into bill_info\n",
    "cursor.execute('''\n",
    "    INSERT INTO bill_info (StoreName, StoreAddress, Tel, BillDate, BillTime, SubTotal, Total, Tax, Tips)\n",
    "    VALUES (%s, %s, %s, %s, %s, %s, %s, %s, %s)\n",
    "''', (\"SuperMart\", \"123 Main St, City\", \"123-456-7890\", \"2024-11-17\", \"14:30:00\", 90.0, 100.0, 10.0, 5.0))\n",
    "\n",
    "# Get the BillID of the inserted row\n",
    "bill_id = cursor.lastrowid\n",
    "\n",
    "# Insert sample data into products\n",
    "products = [\n",
    "    (bill_id, \"Apples\", 2, 3.0),\n",
    "    (bill_id, \"Bread\", 1, 2.5),\n",
    "    (bill_id, \"Milk\", 1, 1.5)\n",
    "]\n",
    "cursor.executemany('''\n",
    "    INSERT INTO products (BillID, ProductName, Quantity, Price)\n",
    "    VALUES (%s, %s, %s, %s)\n",
    "''', products)\n",
    "\n",
    "# Insert sample data into images\n",
    "with open(\"sample_bill.jpg\", \"rb\") as f:  # Replace with a path to an actual image file\n",
    "    image_blob = f.read()\n",
    "cursor.execute('''\n",
    "    INSERT INTO images (bill_img, BillID)\n",
    "    VALUES (%s, %s)\n",
    "''', (image_blob, bill_id))\n",
    "\n",
    "# Commit changes and close the connection\n",
    "conn.commit()\n",
    "print(\"Sample data inserted successfully.\")\n",
    "\n",
    "# Close the database connection\n",
    "cursor.close()\n",
    "conn.close()"
   ]
  }
 ],
 "metadata": {
  "kernelspec": {
   "display_name": "flaskenv",
   "language": "python",
   "name": "python3"
  },
  "language_info": {
   "codemirror_mode": {
    "name": "ipython",
    "version": 3
   },
   "file_extension": ".py",
   "mimetype": "text/x-python",
   "name": "python",
   "nbconvert_exporter": "python",
   "pygments_lexer": "ipython3",
   "version": "3.13.0"
  }
 },
 "nbformat": 4,
 "nbformat_minor": 2
}
