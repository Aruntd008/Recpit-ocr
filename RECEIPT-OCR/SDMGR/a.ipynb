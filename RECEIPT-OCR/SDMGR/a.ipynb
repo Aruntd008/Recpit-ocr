{
 "cells": [
  {
   "cell_type": "code",
   "execution_count": 1,
   "metadata": {},
   "outputs": [
    {
     "name": "stderr",
     "output_type": "stream",
     "text": [
      "infer_mmlab_kie.zip: 100%|██████████| 1.27M/1.27M [00:00<00:00, 1.85MiB/s]\n"
     ]
    },
    {
     "name": "stdout",
     "output_type": "stream",
     "text": [
      "Installing infer_mmlab_kie requirements. This may take a while, please be patient...\n"
     ]
    },
    {
     "name": "stderr",
     "output_type": "stream",
     "text": [
      "c:\\Users\\Arun\\anaconda3\\envs\\flaskappenv\\lib\\site-packages\\tqdm\\auto.py:21: TqdmWarning: IProgress not found. Please update jupyter and ipywidgets. See https://ipywidgets.readthedocs.io/en/stable/user_install.html\n",
      "  from .autonotebook import tqdm as notebook_tqdm\n"
     ]
    },
    {
     "name": "stdout",
     "output_type": "stream",
     "text": [
      "Ikomia auto-completion updated for installed plugins.\n",
      "Ikomia auto-completion updated for Ikomia HUB algorithms.\n",
      "[{'model_name': 'sdmgr', 'cfg': 'sdmgr_unet16_60e_wildreceipt'}, {'model_name': 'sdmgr', 'cfg': 'sdmgr_novisual_60e_wildreceipt'}, {'model_name': 'sdmgr', 'cfg': 'sdmgr_novisual_60e_wildreceipt_openset'}]\n"
     ]
    }
   ],
   "source": [
    "from ikomia.dataprocess.workflow import Workflow\n",
    "\n",
    "# Init your workflow\n",
    "wf = Workflow()\n",
    "\n",
    "# Add kie algorithm\n",
    "kie = wf.add_task(name=\"infer_mmlab_kie\", auto_connect=True)\n",
    "\n",
    "# Get list of possible models (model_name, model_config)\n",
    "print(kie.get_model_zoo())\n"
   ]
  },
  {
   "cell_type": "code",
   "execution_count": null,
   "metadata": {},
   "outputs": [],
   "source": [
    "import cv2\n",
    "from ikomia.utils.display import display_annotations\n",
    "# Add a loader task to load an input image\n",
    "loader = wf.add_task(name=\"load_image\", auto_connect=False)\n",
    "loader.set_parameters({\"input_path\": \"C:/Users/Arun/pytorch/datasets/bills/wildreceipt/image_files/Image_10/10/3755a671aa0c4daf0f4c523e23bc067d45dd4526.jpeg\"})  # Specify the image path\n",
    "\n",
    "# Connect loader to KIE task\n",
    "wf.connect_tasks(loader, kie)\n",
    "\n",
    "# Run the workflow\n",
    "wf.run()\n",
    "\n",
    "# Get and visualize the results\n",
    "results = kie.get_output(0)  # Get the output annotations\n",
    "image = cv2.imread(\"C:/Users/Arun/pytorch/datasets/bills/wildreceipt/image_files/Image_10/10/3755a671aa0c4daf0f4c523e23bc067d45dd4526.jpeg\")  # Load the input image\n",
    "\n",
    "# Display annotations on the image\n",
    "if results.is_image():\n",
    "    annotated_image = display_annotations(image, results.get_annotations())\n",
    "    cv2.imshow(\"KIE Results\", annotated_image)\n",
    "    cv2.waitKey(0)\n",
    "    cv2.destroyAllWindows()"
   ]
  }
 ],
 "metadata": {
  "kernelspec": {
   "display_name": "flaskappenv",
   "language": "python",
   "name": "python3"
  },
  "language_info": {
   "codemirror_mode": {
    "name": "ipython",
    "version": 3
   },
   "file_extension": ".py",
   "mimetype": "text/x-python",
   "name": "python",
   "nbconvert_exporter": "python",
   "pygments_lexer": "ipython3",
   "version": "3.10.15"
  }
 },
 "nbformat": 4,
 "nbformat_minor": 2
}
